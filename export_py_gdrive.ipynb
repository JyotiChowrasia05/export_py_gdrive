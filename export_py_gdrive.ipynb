{
  "nbformat": 4,
  "nbformat_minor": 0,
  "metadata": {
    "colab": {
      "provenance": [],
      "authorship_tag": "ABX9TyNyWNhdjx/Ud1rADQ628SyD",
      "include_colab_link": true
    },
    "kernelspec": {
      "name": "python3",
      "display_name": "Python 3"
    },
    "language_info": {
      "name": "python"
    }
  },
  "cells": [
    {
      "cell_type": "markdown",
      "metadata": {
        "id": "view-in-github",
        "colab_type": "text"
      },
      "source": [
        "<a href=\"https://colab.research.google.com/github/JyotiChowrasia05/export_py_gdrive/blob/main/export_py_gdrive.ipynb\" target=\"_parent\"><img src=\"https://colab.research.google.com/assets/colab-badge.svg\" alt=\"Open In Colab\"/></a>"
      ]
    },
    {
      "cell_type": "code",
      "execution_count": 11,
      "metadata": {
        "id": "D76C9zakrikH"
      },
      "outputs": [],
      "source": [
        "import pandas as pd\n",
        "import os"
      ]
    },
    {
      "cell_type": "code",
      "source": [
        "from google.colab import drive  # For Google Colab\n",
        "from googleapiclient.discovery import build\n",
        "from googleapiclient.http import MediaFileUpload\n",
        "from oauth2client.service_account import ServiceAccountCredentials"
      ],
      "metadata": {
        "id": "HrUhvGs4uEmt"
      },
      "execution_count": 6,
      "outputs": []
    },
    {
      "cell_type": "code",
      "source": [
        "from google.colab import drive\n",
        "drive.mount('/content/drive', force_remount=True)"
      ],
      "metadata": {
        "colab": {
          "base_uri": "https://localhost:8080/"
        },
        "id": "W9H1JkvluN7u",
        "outputId": "f4efd1d5-d0fa-43b3-b73a-28c36c7b1c67"
      },
      "execution_count": 21,
      "outputs": [
        {
          "output_type": "stream",
          "name": "stdout",
          "text": [
            "Mounted at /content/drive\n"
          ]
        }
      ]
    },
    {
      "cell_type": "code",
      "source": [
        "data = {'Product': ['A', 'B', 'C', 'D'],\n",
        "        'Quantity': [10, 15, 8, 12],\n",
        "        'Price': [100, 120, 90, 110]}\n",
        "df_prod = pd.DataFrame(data)\n",
        "\n",
        "\n",
        "folder_path = '/content/drive/MyDrive/my_folder'\n",
        "if not os.path.exists(folder_path):\n",
        "    os.makedirs(folder_path)\n",
        "\n",
        "\n",
        "file_path = os.path.join(folder_path, 'my_data.docx')\n",
        "df_prod.to_csv(file_path, index=False)"
      ],
      "metadata": {
        "id": "SzxlajnpyA0z"
      },
      "execution_count": 26,
      "outputs": []
    }
  ]
}